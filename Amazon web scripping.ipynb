{
 "cells": [
  {
   "cell_type": "code",
   "execution_count": 7,
   "id": "99ca1dc3",
   "metadata": {},
   "outputs": [],
   "source": [
    "from bs4 import BeautifulSoup\n",
    "import requests\n",
    "import re\n",
    "import pandas as pd\n",
    "import os\n",
    "import json\n",
    "from PIL import Image\n",
    "from urllib.parse import urlparse\n",
    "import urllib.request\n",
    "import time\n",
    "\n",
    "from selenium import webdriver\n",
    "from selenium.webdriver.support.ui import WebDriverWait\n",
    "from selenium.webdriver.support import expected_conditions as EC\n",
    "from selenium.webdriver.common.by import By\n",
    "from selenium.common.exceptions import TimeoutException\n",
    "from msedge.selenium_tools import Edge, EdgeOptions"
   ]
  },
  {
   "cell_type": "code",
   "execution_count": 18,
   "id": "6610e9c4",
   "metadata": {},
   "outputs": [
    {
     "name": "stderr",
     "output_type": "stream",
     "text": [
      "C:\\Users\\nurul\\AppData\\Local\\Temp/ipykernel_17696/3779701882.py:1: DeprecationWarning: executable_path has been deprecated, please pass in a Service object\n",
      "  driver = webdriver.Chrome(executable_path=\"C:\\webDriver\\chromedriver.exe\")\n"
     ]
    }
   ],
   "source": [
    "driver = webdriver.Chrome(executable_path=\"C:\\webDriver\\chromedriver.exe\")"
   ]
  },
  {
   "cell_type": "code",
   "execution_count": 15,
   "id": "43bc62ec",
   "metadata": {},
   "outputs": [],
   "source": [
    "def get_url(search_text):\n",
    "    \"generate url from Search term\"\n",
    "    template = 'https://www.amazon.com.tr/s?k={}&__mk_tr_TR=%C3%85M%C3%85%C5%BD%C3%95%C3%91&ref=nb_sb_noss_2'\n",
    "    search_text = search_text.replace(' ', '+')\n",
    "    return template.format(search_text)\n"
   ]
  },
  {
   "cell_type": "code",
   "execution_count": 17,
   "id": "ea1095c9",
   "metadata": {},
   "outputs": [
    {
     "data": {
      "text/plain": [
       "'https://www.amazon.com.tr/s?k=bilgisayar&__mk_tr_TR=%C3%85M%C3%85%C5%BD%C3%95%C3%91&ref=nb_sb_noss_2'"
      ]
     },
     "execution_count": 17,
     "metadata": {},
     "output_type": "execute_result"
    }
   ],
   "source": [
    "url = get_url('bilgisayar')\n",
    "url"
   ]
  },
  {
   "cell_type": "code",
   "execution_count": 19,
   "id": "88b85277",
   "metadata": {},
   "outputs": [],
   "source": [
    "driver.get(url)"
   ]
  },
  {
   "cell_type": "code",
   "execution_count": 54,
   "id": "76357012",
   "metadata": {},
   "outputs": [
    {
     "data": {
      "text/plain": [
       "['LenovoYoga7DizüstüBilgisayar,14\"FHD,IntelCorei7-1165G7,8GBRAM,512GBSSD,82BH00AGTX,Windows10',\n",
       " '12.199,00TL',\n",
       " '',\n",
       " '',\n",
       " 'https://www.amazon.com.tr//Lenovo-Diz%C3%BCst%C3%BC-Bilgisayar-i7-1165G7-82BH00AGTX/dp/B095SWT5GM/ref=sr_1_2?__mk_tr_TR=%C3%85M%C3%85%C5%BD%C3%95%C3%91&keywords=bilgisayar&qid=1636824140&sr=8-2']"
      ]
     },
     "execution_count": 54,
     "metadata": {},
     "output_type": "execute_result"
    }
   ],
   "source": [
    "soup = BeautifulSoup(driver.page_source, 'html.parser')\n",
    "results = soup.find_all('div',{'data-component-type':'s-search-result'})\n",
    "data = []\n",
    "\n",
    "for item in results:\n",
    "    record = extact_record(item)\n",
    "    if record:\n",
    "        data.append(record)\n",
    "        \n",
    "        \n",
    "data[1]"
   ]
  },
  {
   "cell_type": "markdown",
   "id": "59c160ac",
   "metadata": {},
   "source": [
    "### Generalize the Pattern"
   ]
  },
  {
   "cell_type": "code",
   "execution_count": 53,
   "id": "af34ff0d",
   "metadata": {},
   "outputs": [],
   "source": [
    "def extact_record(item):\n",
    "    \n",
    "    atag = item.h2.a\n",
    "    \n",
    "    try:\n",
    "        description = re.sub('\\s+', '',atag.text)\n",
    "    except Exception:\n",
    "        description = \"\"\n",
    "        \n",
    "    try:    \n",
    "        url= re.sub('\\s+', '','https://www.amazon.com.tr/' + atag['href'])\n",
    "    except Exception:\n",
    "        url =\"\"\n",
    "        \n",
    "    try:    \n",
    "        price = re.sub('\\s+', '',item.find('span', 'a-price').find('span','a-offscreen').text.replace('\\xa0',' '))\n",
    "    except Exception:\n",
    "        price=\"\"\n",
    "        \n",
    "    try:    \n",
    "        rating = re.sub('\\s+', '',item.i.text)\n",
    "    except Exception:\n",
    "        rating =\"\"\n",
    "        \n",
    "    try:     \n",
    "        review_count=re.sub('\\s+', '',item.find('span',{\"class\":\"a-size-base\"}).text)\n",
    "    except Exception:\n",
    "        review_count =\"\"\n",
    "    \n",
    "    \n",
    "    result = [description,price,rating,review_count,url]\n",
    "    \n",
    "    return result"
   ]
  },
  {
   "cell_type": "markdown",
   "id": "e3af22ac",
   "metadata": {},
   "source": [
    "# Getting The Next Page"
   ]
  },
  {
   "cell_type": "code",
   "execution_count": 55,
   "id": "ac21b067",
   "metadata": {},
   "outputs": [],
   "source": [
    "def get_url(search_text):\n",
    "    \"generate url from Search term\"\n",
    "    template = 'https://www.amazon.com.tr/s?k={}&__mk_tr_TR=%C3%85M%C3%85%C5%BD%C3%95%C3%91&ref=nb_sb_noss_2'\n",
    "    \n",
    "    search_text = search_text.replace(' ', '+')\n",
    "    \n",
    "    url = template.format(search_text)\n",
    "    \n",
    "    url += '&page{}'\n",
    "    \n",
    "    return url\n"
   ]
  },
  {
   "cell_type": "markdown",
   "id": "4bb3ce60",
   "metadata": {},
   "source": [
    "# Pull All Together"
   ]
  },
  {
   "cell_type": "code",
   "execution_count": 75,
   "id": "917deaf6",
   "metadata": {},
   "outputs": [],
   "source": [
    "from bs4 import BeautifulSoup\n",
    "import requests\n",
    "import re\n",
    "import pandas as pd\n",
    "import os\n",
    "import json\n",
    "from PIL import Image\n",
    "from urllib.parse import urlparse\n",
    "import urllib.request\n",
    "import time\n",
    "\n",
    "from selenium import webdriver\n",
    "from selenium.webdriver.support.ui import WebDriverWait\n",
    "from selenium.webdriver.support import expected_conditions as EC\n",
    "from selenium.webdriver.common.by import By\n",
    "from selenium.common.exceptions import TimeoutException\n",
    "from msedge.selenium_tools import Edge, EdgeOptions\n",
    "\n",
    "def extract_record(item):\n",
    "    \n",
    "    atag = item.h2.a\n",
    "    \n",
    "    try:\n",
    "        description = re.sub('\\s+', '',atag.text)\n",
    "    except Exception:\n",
    "        description = \"\"\n",
    "        \n",
    "    try:    \n",
    "        url= re.sub('\\s+', '','https://www.amazon.com.tr/' + atag['href'])\n",
    "    except Exception:\n",
    "        url =\"\"\n",
    "        \n",
    "    try:    \n",
    "        price = re.sub('\\s+', '',item.find('span', 'a-price').find('span','a-offscreen').text.replace('\\xa0',' '))\n",
    "    except Exception:\n",
    "        price=\"\"\n",
    "        \n",
    "    try:    \n",
    "        rating = re.sub('\\s+', '',item.i.text)\n",
    "    except Exception:\n",
    "        rating =\"\"\n",
    "        \n",
    "    try:     \n",
    "        review_count=re.sub('\\s+', '',item.find('span',{\"class\":\"a-size-base\"}).text)\n",
    "    except Exception:\n",
    "        review_count =\"\"\n",
    "    \n",
    "    \n",
    "    result = [description,price,rating,review_count,url]\n",
    "    \n",
    "    return result\n",
    "\n",
    "def get_url(search_text):\n",
    "    \"generate url from Search term\"\n",
    "    search_text = search_text.replace(' ', '+')\n",
    "    \n",
    "    template = 'https://www.amazon.com.tr/s?k=:search&page=:pageNumber&__mk_tr_TR=%C3%85M%C3%85%C5%BD%C3%95%C3%91&qid=1636827846&ref=sr_pg_2'\n",
    "    \n",
    "    url = template.replace(':search', search_text)\n",
    "        \n",
    "    return url\n",
    "\n",
    "\n",
    "def main(search_term):\n",
    "    #run main routine\n",
    "    driver = webdriver.Chrome(executable_path=\"C:\\webDriver\\chromedriver.exe\")\n",
    "    \n",
    "    records = []\n",
    "    \n",
    "    url = get_url(search_term)\n",
    "    \n",
    "    \n",
    "    for page in range(1,21):\n",
    "        driver.get(url.replace(':pageNumber', str(page)))\n",
    "        soup = BeautifulSoup(driver.page_source, 'html.parser')\n",
    "        results = soup.find_all('div',{'data-component-type':'s-search-result'})\n",
    "        \n",
    "        \n",
    "        \n",
    "        for item in results:\n",
    "            record = extract_record(item)\n",
    "            \n",
    "            if record:\n",
    "                records.append(record)\n",
    "                \n",
    "                \n",
    "                \n",
    "    driver.close()\n",
    "    #Save \n",
    "    df = pd.DataFrame(data, columns = ['Description', 'price', 'rating', 'review_count', 'url'])\n",
    "    df.to_excel ('C:/Users/nurul/OneDrive/Masaüstü/New folder/export_dataframe2.xlsx', index = False, header=True)\n"
   ]
  },
  {
   "cell_type": "code",
   "execution_count": 76,
   "id": "90065645",
   "metadata": {},
   "outputs": [
    {
     "name": "stderr",
     "output_type": "stream",
     "text": [
      "C:\\Users\\nurul\\AppData\\Local\\Temp/ipykernel_17696/4226763522.py:66: DeprecationWarning: executable_path has been deprecated, please pass in a Service object\n",
      "  driver = webdriver.Chrome(executable_path=\"C:\\webDriver\\chromedriver.exe\")\n"
     ]
    }
   ],
   "source": [
    "main('bilgisayar')"
   ]
  }
 ],
 "metadata": {
  "kernelspec": {
   "display_name": "Python 3 (ipykernel)",
   "language": "python",
   "name": "python3"
  },
  "language_info": {
   "codemirror_mode": {
    "name": "ipython",
    "version": 3
   },
   "file_extension": ".py",
   "mimetype": "text/x-python",
   "name": "python",
   "nbconvert_exporter": "python",
   "pygments_lexer": "ipython3",
   "version": "3.9.1"
  }
 },
 "nbformat": 4,
 "nbformat_minor": 5
}
